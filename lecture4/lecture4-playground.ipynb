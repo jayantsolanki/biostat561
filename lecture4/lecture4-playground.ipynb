{
 "cells": [
  {
   "cell_type": "markdown",
   "metadata": {},
   "source": [
    "## Computational Skills for Biostats"
   ]
  },
  {
   "cell_type": "markdown",
   "metadata": {},
   "source": [
    "### Critical pieaces in developing statistical model\n",
    "**Define the problem**\n",
    "* Come up with a solution\n",
    "* Investigate the performance of the solution\n",
    "* Compare to existing methods, if they exist\n",
    "* Explore the properties of the solution\n",
    "* Describe the method and your results"
   ]
  },
  {
   "cell_type": "markdown",
   "metadata": {},
   "source": [
    "#### discussion point: ivestigating the performance of the solution\n"
   ]
  },
  {
   "cell_type": "code",
   "execution_count": 2,
   "metadata": {},
   "outputs": [],
   "source": [
    "# investigate the performance of the least-squares estimate of a regression slope"
   ]
  },
  {
   "cell_type": "code",
   "execution_count": 5,
   "metadata": {},
   "outputs": [
    {
     "data": {
      "text/html": [
       "33.4699384248975"
      ],
      "text/latex": [
       "33.4699384248975"
      ],
      "text/markdown": [
       "33.4699384248975"
      ],
      "text/plain": [
       "[1] 33.46994"
      ]
     },
     "metadata": {},
     "output_type": "display_data"
    }
   ],
   "source": [
    "nsims <- 100 # simualted numbers\n",
    "n <- 10\n",
    "beta <- 5\n",
    "sigma_squared <- 10\n",
    "betahat <- vector(\"numeric\", nsims)\n",
    "for (i in 1:nsims) {\n",
    "    x <- runif(n, -1, 1)\n",
    "    y <- rnorm(n, beta*x, sigma_squared)\n",
    "    my_lm_fit <- lm(y ~ x - 1)\n",
    "    betahat[i] <- my_lm_fit$coef\n",
    "}\n",
    "mean((betahat-beta)^2)"
   ]
  },
  {
   "cell_type": "code",
   "execution_count": 7,
   "metadata": {},
   "outputs": [],
   "source": [
    "?lm"
   ]
  },
  {
   "cell_type": "code",
   "execution_count": null,
   "metadata": {},
   "outputs": [],
   "source": []
  }
 ],
 "metadata": {
  "kernelspec": {
   "display_name": "R",
   "language": "R",
   "name": "ir"
  },
  "language_info": {
   "codemirror_mode": "r",
   "file_extension": ".r",
   "mimetype": "text/x-r-source",
   "name": "R",
   "pygments_lexer": "r",
   "version": "3.6.1"
  }
 },
 "nbformat": 4,
 "nbformat_minor": 2
}
